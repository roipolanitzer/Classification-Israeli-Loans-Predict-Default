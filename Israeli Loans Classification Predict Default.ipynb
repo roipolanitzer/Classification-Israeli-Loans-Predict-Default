{
 "cells": [
  {
   "cell_type": "markdown",
   "metadata": {},
   "source": [
    "__Logistic Regression__ is a Machine Learning classification algorithm that is used to predict the probability of a categorical dependent variable. In logistic regression, the dependent variable is a binary variable that contains data coded as 1 (yes, success, etc.) or 0 (no, failure, etc.). In other words, the logistic regression model predicts P(Y=1) as a function of X."
   ]
  },
  {
   "cell_type": "markdown",
   "metadata": {},
   "source": [
    "## Logistic Regression Assumptions"
   ]
  },
  {
   "cell_type": "markdown",
   "metadata": {},
   "source": [
    "1. Binary logistic regression requires the dependent variable to be binary.\n",
    "2. For a binary regression, the factor level 1 of the dependent variable should represent the desired outcome.\n",
    "3. Only the meaningful variables should be included.\n",
    "4. The independent variables should be independent of each other. That is, the model should have little or no multicollinearity.\n",
    "5. The independent variables are linearly related to the log odds.\n",
    "6. Logistic regression requires quite large sample sizes.\n",
    "\n",
    "Keeping the above assumptions in mind, let’s look at our dataset."
   ]
  },
  {
   "cell_type": "markdown",
   "metadata": {},
   "source": [
    "# Data"
   ]
  },
  {
   "cell_type": "markdown",
   "metadata": {},
   "source": [
    "The dataset comes from an Israeli banking institution, and it is related to its retail loans. The classification goal is to predict whether the loan will default (1/0) (variable y)"
   ]
  },
  {
   "cell_type": "code",
   "execution_count": 1,
   "metadata": {},
   "outputs": [],
   "source": [
    "import pandas as pd\n",
    "import numpy as np\n",
    "from sklearn import preprocessing\n",
    "%matplotlib inline\n",
    "import matplotlib\n",
    "matplotlib.rcParams['figure.figsize'] = (10.0, 6.0)\n",
    "import matplotlib.pyplot as plt\n",
    "import seaborn as sns\n",
    "from sklearn.linear_model import LogisticRegression\n",
    "from sklearn.model_selection import train_test_split\n",
    "import seaborn as sns"
   ]
  },
  {
   "cell_type": "markdown",
   "metadata": {},
   "source": [
    "The dataset provides the bank loans’ information. It includes 21000 records and 10 fields."
   ]
  },
  {
   "cell_type": "code",
   "execution_count": 2,
   "metadata": {},
   "outputs": [
    {
     "name": "stdout",
     "output_type": "stream",
     "text": [
      "(21000, 10)\n",
      "['Applicant_ID', 'Age', 'Education_Level', 'Years_with_Current_Employer', 'Years_at_Current_Address', 'Household_Income_(Thousands_NIS)', 'Debt_to_Income_Ratio_(%)', 'Credit_Card_Debt_(Thousands_NIS)', 'Other_Debt_(Thousands_NIS)', 'y']\n"
     ]
    }
   ],
   "source": [
    "data = pd.read_csv(\"Israeli_Bank_Loans.csv\",encoding='ISO-8859-1')\n",
    "data = data.dropna()\n",
    "print(data.shape)\n",
    "print(list(data.columns))"
   ]
  },
  {
   "cell_type": "code",
   "execution_count": 3,
   "metadata": {},
   "outputs": [
    {
     "data": {
      "text/html": [
       "<div>\n",
       "<style scoped>\n",
       "    .dataframe tbody tr th:only-of-type {\n",
       "        vertical-align: middle;\n",
       "    }\n",
       "\n",
       "    .dataframe tbody tr th {\n",
       "        vertical-align: top;\n",
       "    }\n",
       "\n",
       "    .dataframe thead th {\n",
       "        text-align: right;\n",
       "    }\n",
       "</style>\n",
       "<table border=\"1\" class=\"dataframe\">\n",
       "  <thead>\n",
       "    <tr style=\"text-align: right;\">\n",
       "      <th></th>\n",
       "      <th>Applicant_ID</th>\n",
       "      <th>Age</th>\n",
       "      <th>Education_Level</th>\n",
       "      <th>Years_with_Current_Employer</th>\n",
       "      <th>Years_at_Current_Address</th>\n",
       "      <th>Household_Income_(Thousands_NIS)</th>\n",
       "      <th>Debt_to_Income_Ratio_(%)</th>\n",
       "      <th>Credit_Card_Debt_(Thousands_NIS)</th>\n",
       "      <th>Other_Debt_(Thousands_NIS)</th>\n",
       "      <th>y</th>\n",
       "    </tr>\n",
       "  </thead>\n",
       "  <tbody>\n",
       "    <tr>\n",
       "      <th>0</th>\n",
       "      <td>1</td>\n",
       "      <td>27</td>\n",
       "      <td>high school</td>\n",
       "      <td>15</td>\n",
       "      <td>10</td>\n",
       "      <td>120</td>\n",
       "      <td>16.5</td>\n",
       "      <td>0</td>\n",
       "      <td>6</td>\n",
       "      <td>0</td>\n",
       "    </tr>\n",
       "    <tr>\n",
       "      <th>1</th>\n",
       "      <td>2</td>\n",
       "      <td>34</td>\n",
       "      <td>graduate professional education</td>\n",
       "      <td>13</td>\n",
       "      <td>1</td>\n",
       "      <td>169</td>\n",
       "      <td>5.6</td>\n",
       "      <td>12</td>\n",
       "      <td>5</td>\n",
       "      <td>0</td>\n",
       "    </tr>\n",
       "    <tr>\n",
       "      <th>2</th>\n",
       "      <td>3</td>\n",
       "      <td>40</td>\n",
       "      <td>high school</td>\n",
       "      <td>0</td>\n",
       "      <td>4</td>\n",
       "      <td>135</td>\n",
       "      <td>6.9</td>\n",
       "      <td>2</td>\n",
       "      <td>7</td>\n",
       "      <td>0</td>\n",
       "    </tr>\n",
       "    <tr>\n",
       "      <th>3</th>\n",
       "      <td>4</td>\n",
       "      <td>28</td>\n",
       "      <td>high school</td>\n",
       "      <td>8</td>\n",
       "      <td>8</td>\n",
       "      <td>210</td>\n",
       "      <td>2.3</td>\n",
       "      <td>11</td>\n",
       "      <td>2</td>\n",
       "      <td>0</td>\n",
       "    </tr>\n",
       "    <tr>\n",
       "      <th>4</th>\n",
       "      <td>5</td>\n",
       "      <td>40</td>\n",
       "      <td>university</td>\n",
       "      <td>27</td>\n",
       "      <td>4</td>\n",
       "      <td>83</td>\n",
       "      <td>6.7</td>\n",
       "      <td>0</td>\n",
       "      <td>15</td>\n",
       "      <td>0</td>\n",
       "    </tr>\n",
       "  </tbody>\n",
       "</table>\n",
       "</div>"
      ],
      "text/plain": [
       "   Applicant_ID  Age                  Education_Level  \\\n",
       "0             1   27                      high school   \n",
       "1             2   34  graduate professional education   \n",
       "2             3   40                      high school   \n",
       "3             4   28                      high school   \n",
       "4             5   40                       university   \n",
       "\n",
       "   Years_with_Current_Employer  Years_at_Current_Address  \\\n",
       "0                           15                        10   \n",
       "1                           13                         1   \n",
       "2                            0                         4   \n",
       "3                            8                         8   \n",
       "4                           27                         4   \n",
       "\n",
       "   Household_Income_(Thousands_NIS)  Debt_to_Income_Ratio_(%)  \\\n",
       "0                               120                      16.5   \n",
       "1                               169                       5.6   \n",
       "2                               135                       6.9   \n",
       "3                               210                       2.3   \n",
       "4                                83                       6.7   \n",
       "\n",
       "   Credit_Card_Debt_(Thousands_NIS)  Other_Debt_(Thousands_NIS)  y  \n",
       "0                                 0                           6  0  \n",
       "1                                12                           5  0  \n",
       "2                                 2                           7  0  \n",
       "3                                11                           2  0  \n",
       "4                                 0                          15  0  "
      ]
     },
     "execution_count": 3,
     "metadata": {},
     "output_type": "execute_result"
    }
   ],
   "source": [
    "data.head()"
   ]
  },
  {
   "cell_type": "markdown",
   "metadata": {},
   "source": [
    "#### Input variables"
   ]
  },
  {
   "cell_type": "markdown",
   "metadata": {},
   "source": [
    "1 - Applicant_ID (numeric)\n",
    "\n",
    "2 - Age: age of loan applicant (numeric)\n",
    "\n",
    "3 - Education_Level : type of education (categorical: 'graduate professional education', 'high school', 'university')\n",
    "\n",
    "4 - Years_with_Current_Employer : number of years with the current employer (numeric)\n",
    "\n",
    "5 - Years_at_Current_Address : number of years at the current address (numeric)\n",
    "\n",
    "6 - Household_Income_(Thousands_NIS) (numeric)\n",
    "\n",
    "7 - Debt_to_Income_Ratio_(%) (numeric)\n",
    "\n",
    "8 - Credit_Card_Debt_(Thousands_NIS) (numeric)\n",
    "\n",
    "9 - Other_Debt_(Thousands_NIS)\n"
   ]
  },
  {
   "cell_type": "markdown",
   "metadata": {},
   "source": [
    "#### Predict variable (desired target):\n",
    "\n",
    "y - has the loan defaulted? (binary: '1','0')"
   ]
  },
  {
   "cell_type": "markdown",
   "metadata": {},
   "source": [
    "The Education_Level column of the dataset has many categories. The Education_Level column has the following categories:"
   ]
  },
  {
   "cell_type": "code",
   "execution_count": 4,
   "metadata": {},
   "outputs": [
    {
     "data": {
      "text/plain": [
       "array(['high school', 'graduate professional education', 'university',\n",
       "       '0'], dtype=object)"
      ]
     },
     "execution_count": 4,
     "metadata": {},
     "output_type": "execute_result"
    }
   ],
   "source": [
    "data['Education_Level'].unique()"
   ]
  },
  {
   "cell_type": "markdown",
   "metadata": {},
   "source": [
    "Let us note \"high school\" as 1, \"university\" as 2, \"graduate professional education\" as 3"
   ]
  },
  {
   "cell_type": "code",
   "execution_count": 5,
   "metadata": {},
   "outputs": [
    {
     "data": {
      "text/html": [
       "<div>\n",
       "<style scoped>\n",
       "    .dataframe tbody tr th:only-of-type {\n",
       "        vertical-align: middle;\n",
       "    }\n",
       "\n",
       "    .dataframe tbody tr th {\n",
       "        vertical-align: top;\n",
       "    }\n",
       "\n",
       "    .dataframe thead th {\n",
       "        text-align: right;\n",
       "    }\n",
       "</style>\n",
       "<table border=\"1\" class=\"dataframe\">\n",
       "  <thead>\n",
       "    <tr style=\"text-align: right;\">\n",
       "      <th></th>\n",
       "      <th>Applicant_ID</th>\n",
       "      <th>Age</th>\n",
       "      <th>Years_with_Current_Employer</th>\n",
       "      <th>Years_at_Current_Address</th>\n",
       "      <th>Household_Income_(Thousands_NIS)</th>\n",
       "      <th>Debt_to_Income_Ratio_(%)</th>\n",
       "      <th>Credit_Card_Debt_(Thousands_NIS)</th>\n",
       "      <th>Other_Debt_(Thousands_NIS)</th>\n",
       "      <th>y</th>\n",
       "    </tr>\n",
       "    <tr>\n",
       "      <th>Education_Level</th>\n",
       "      <th></th>\n",
       "      <th></th>\n",
       "      <th></th>\n",
       "      <th></th>\n",
       "      <th></th>\n",
       "      <th></th>\n",
       "      <th></th>\n",
       "      <th></th>\n",
       "      <th></th>\n",
       "    </tr>\n",
       "  </thead>\n",
       "  <tbody>\n",
       "    <tr>\n",
       "      <th>0</th>\n",
       "      <td>10836.597531</td>\n",
       "      <td>35.421399</td>\n",
       "      <td>9.118519</td>\n",
       "      <td>8.484774</td>\n",
       "      <td>169.686420</td>\n",
       "      <td>9.073333</td>\n",
       "      <td>5.161317</td>\n",
       "      <td>10.523457</td>\n",
       "      <td>0.085597</td>\n",
       "    </tr>\n",
       "    <tr>\n",
       "      <th>graduate professional education</th>\n",
       "      <td>10721.918942</td>\n",
       "      <td>35.110100</td>\n",
       "      <td>8.967490</td>\n",
       "      <td>8.637191</td>\n",
       "      <td>171.866927</td>\n",
       "      <td>8.972042</td>\n",
       "      <td>5.058951</td>\n",
       "      <td>10.365410</td>\n",
       "      <td>0.070655</td>\n",
       "    </tr>\n",
       "    <tr>\n",
       "      <th>high school</th>\n",
       "      <td>10385.139945</td>\n",
       "      <td>35.076181</td>\n",
       "      <td>9.091786</td>\n",
       "      <td>8.630925</td>\n",
       "      <td>171.474117</td>\n",
       "      <td>8.853067</td>\n",
       "      <td>4.722376</td>\n",
       "      <td>10.063344</td>\n",
       "      <td>0.034734</td>\n",
       "    </tr>\n",
       "    <tr>\n",
       "      <th>university</th>\n",
       "      <td>10582.493974</td>\n",
       "      <td>35.161000</td>\n",
       "      <td>9.062241</td>\n",
       "      <td>8.598489</td>\n",
       "      <td>171.066199</td>\n",
       "      <td>8.894945</td>\n",
       "      <td>4.786832</td>\n",
       "      <td>10.380824</td>\n",
       "      <td>0.057384</td>\n",
       "    </tr>\n",
       "  </tbody>\n",
       "</table>\n",
       "</div>"
      ],
      "text/plain": [
       "                                 Applicant_ID        Age  \\\n",
       "Education_Level                                            \n",
       "0                                10836.597531  35.421399   \n",
       "graduate professional education  10721.918942  35.110100   \n",
       "high school                      10385.139945  35.076181   \n",
       "university                       10582.493974  35.161000   \n",
       "\n",
       "                                 Years_with_Current_Employer  \\\n",
       "Education_Level                                                \n",
       "0                                                   9.118519   \n",
       "graduate professional education                     8.967490   \n",
       "high school                                         9.091786   \n",
       "university                                          9.062241   \n",
       "\n",
       "                                 Years_at_Current_Address  \\\n",
       "Education_Level                                             \n",
       "0                                                8.484774   \n",
       "graduate professional education                  8.637191   \n",
       "high school                                      8.630925   \n",
       "university                                       8.598489   \n",
       "\n",
       "                                 Household_Income_(Thousands_NIS)  \\\n",
       "Education_Level                                                     \n",
       "0                                                      169.686420   \n",
       "graduate professional education                        171.866927   \n",
       "high school                                            171.474117   \n",
       "university                                             171.066199   \n",
       "\n",
       "                                 Debt_to_Income_Ratio_(%)  \\\n",
       "Education_Level                                             \n",
       "0                                                9.073333   \n",
       "graduate professional education                  8.972042   \n",
       "high school                                      8.853067   \n",
       "university                                       8.894945   \n",
       "\n",
       "                                 Credit_Card_Debt_(Thousands_NIS)  \\\n",
       "Education_Level                                                     \n",
       "0                                                        5.161317   \n",
       "graduate professional education                          5.058951   \n",
       "high school                                              4.722376   \n",
       "university                                               4.786832   \n",
       "\n",
       "                                 Other_Debt_(Thousands_NIS)         y  \n",
       "Education_Level                                                        \n",
       "0                                                 10.523457  0.085597  \n",
       "graduate professional education                   10.365410  0.070655  \n",
       "high school                                       10.063344  0.034734  \n",
       "university                                        10.380824  0.057384  "
      ]
     },
     "execution_count": 5,
     "metadata": {},
     "output_type": "execute_result"
    }
   ],
   "source": [
    "data.groupby('Education_Level').mean()"
   ]
  },
  {
   "cell_type": "markdown",
   "metadata": {},
   "source": [
    "After grouping, this is the columns:"
   ]
  },
  {
   "cell_type": "markdown",
   "metadata": {},
   "source": [
    "# Data exploration"
   ]
  },
  {
   "cell_type": "code",
   "execution_count": 6,
   "metadata": {},
   "outputs": [
    {
     "data": {
      "text/plain": [
       "0    20000\n",
       "1     1000\n",
       "Name: y, dtype: int64"
      ]
     },
     "execution_count": 6,
     "metadata": {},
     "output_type": "execute_result"
    }
   ],
   "source": [
    "data['y'].value_counts()"
   ]
  },
  {
   "cell_type": "code",
   "execution_count": 7,
   "metadata": {},
   "outputs": [
    {
     "data": {
      "image/png": "[encoded data removed]",
      "text/plain": [
       "<Figure size 720x432 with 1 Axes>"
      ]
     },
     "metadata": {
      "needs_background": "light"
     },
     "output_type": "display_data"
    },
    {
     "data": {
      "text/plain": [
       "<Figure size 720x432 with 0 Axes>"
      ]
     },
     "metadata": {},
     "output_type": "display_data"
    }
   ],
   "source": [
    "sns.countplot(x='y', data=data)\n",
    "plt.show()\n",
    "plt.savefig('default_count_plot')"
   ]
  },
  {
   "cell_type": "code",
   "execution_count": 8,
   "metadata": {},
   "outputs": [
    {
     "name": "stdout",
     "output_type": "stream",
     "text": [
      "\u001b[1m percentage of no default is\u001b[1m 95.23809523809523\n",
      "\u001b[1m percentage of default\u001b[1m 4.761904761904762\n"
     ]
    }
   ],
   "source": [
    "count_no_default = len(data[data['y']==0])\n",
    "count_default = len(data[data['y']==1])\n",
    "pct_of_no_default = count_no_default/(count_no_default+count_default)\n",
    "print(\"\\033[1m percentage of no default is\\033[1m\", pct_of_no_default*100)\n",
    "pct_of_default = count_default/(count_no_default+count_default)\n",
    "print(\"\\033[1m percentage of default\\033[1m\", pct_of_default*100)"
   ]
  },
  {
   "cell_type": "markdown",
   "metadata": {},
   "source": [
    "Our classes are imbalanced, and the ratio of no-default to default instances is 95:5. Before we go ahead to balance the classes, let’s do some more exploration."
   ]
  },
  {
   "cell_type": "code",
   "execution_count": 9,
   "metadata": {},
   "outputs": [
    {
     "data": {
      "text/html": [
       "<div>\n",
       "<style scoped>\n",
       "    .dataframe tbody tr th:only-of-type {\n",
       "        vertical-align: middle;\n",
       "    }\n",
       "\n",
       "    .dataframe tbody tr th {\n",
       "        vertical-align: top;\n",
       "    }\n",
       "\n",
       "    .dataframe thead th {\n",
       "        text-align: right;\n",
       "    }\n",
       "</style>\n",
       "<table border=\"1\" class=\"dataframe\">\n",
       "  <thead>\n",
       "    <tr style=\"text-align: right;\">\n",
       "      <th></th>\n",
       "      <th>Applicant_ID</th>\n",
       "      <th>Age</th>\n",
       "      <th>Years_with_Current_Employer</th>\n",
       "      <th>Years_at_Current_Address</th>\n",
       "      <th>Household_Income_(Thousands_NIS)</th>\n",
       "      <th>Debt_to_Income_Ratio_(%)</th>\n",
       "      <th>Credit_Card_Debt_(Thousands_NIS)</th>\n",
       "      <th>Other_Debt_(Thousands_NIS)</th>\n",
       "    </tr>\n",
       "    <tr>\n",
       "      <th>y</th>\n",
       "      <th></th>\n",
       "      <th></th>\n",
       "      <th></th>\n",
       "      <th></th>\n",
       "      <th></th>\n",
       "      <th></th>\n",
       "      <th></th>\n",
       "      <th></th>\n",
       "    </tr>\n",
       "  </thead>\n",
       "  <tbody>\n",
       "    <tr>\n",
       "      <th>0</th>\n",
       "      <td>10000.5</td>\n",
       "      <td>35.2133</td>\n",
       "      <td>9.25765</td>\n",
       "      <td>8.71115</td>\n",
       "      <td>171.86275</td>\n",
       "      <td>8.62022</td>\n",
       "      <td>4.5515</td>\n",
       "      <td>9.95065</td>\n",
       "    </tr>\n",
       "    <tr>\n",
       "      <th>1</th>\n",
       "      <td>20500.5</td>\n",
       "      <td>33.3030</td>\n",
       "      <td>5.35600</td>\n",
       "      <td>6.68300</td>\n",
       "      <td>160.16800</td>\n",
       "      <td>14.28490</td>\n",
       "      <td>9.8080</td>\n",
       "      <td>15.33800</td>\n",
       "    </tr>\n",
       "  </tbody>\n",
       "</table>\n",
       "</div>"
      ],
      "text/plain": [
       "   Applicant_ID      Age  Years_with_Current_Employer  \\\n",
       "y                                                       \n",
       "0       10000.5  35.2133                      9.25765   \n",
       "1       20500.5  33.3030                      5.35600   \n",
       "\n",
       "   Years_at_Current_Address  Household_Income_(Thousands_NIS)  \\\n",
       "y                                                               \n",
       "0                   8.71115                         171.86275   \n",
       "1                   6.68300                         160.16800   \n",
       "\n",
       "   Debt_to_Income_Ratio_(%)  Credit_Card_Debt_(Thousands_NIS)  \\\n",
       "y                                                               \n",
       "0                   8.62022                            4.5515   \n",
       "1                  14.28490                            9.8080   \n",
       "\n",
       "   Other_Debt_(Thousands_NIS)  \n",
       "y                              \n",
       "0                     9.95065  \n",
       "1                    15.33800  "
      ]
     },
     "execution_count": 9,
     "metadata": {},
     "output_type": "execute_result"
    }
   ],
   "source": [
    "data.groupby('y').mean()"
   ]
  },
  {
   "cell_type": "markdown",
   "metadata": {},
   "source": [
    "Observations:\n",
    "\n",
    "1. The average age of loan applicants who defaulted on their loans is younger than that of the loan applicants who didn't.\n",
    "\n",
    "2. The average years with current employer is lower for loan applicants who defaulted on their loans.\n",
    "\n",
    "3. The average years with current address is lower for loan applicants who defaulted on their loans.\n",
    "\n",
    "4. The average household income is lower for loan applicants who defaulted on their loans.\n",
    "\n",
    "5. The average debt to income ratio is lower for loan applicants who defaulted on their loans.\n",
    "\n",
    "6. The average credit card debt is higher for loan applicants who defaulted on their loans.\n",
    "\n",
    "7. The average other debt is higher for loan applicants who defaulted on their loans."
   ]
  },
  {
   "cell_type": "markdown",
   "metadata": {},
   "source": [
    "We can calculate categorical means for education level status to get a more detailed sense of our data."
   ]
  },
  {
   "cell_type": "code",
   "execution_count": 10,
   "metadata": {},
   "outputs": [
    {
     "data": {
      "text/html": [
       "<div>\n",
       "<style scoped>\n",
       "    .dataframe tbody tr th:only-of-type {\n",
       "        vertical-align: middle;\n",
       "    }\n",
       "\n",
       "    .dataframe tbody tr th {\n",
       "        vertical-align: top;\n",
       "    }\n",
       "\n",
       "    .dataframe thead th {\n",
       "        text-align: right;\n",
       "    }\n",
       "</style>\n",
       "<table border=\"1\" class=\"dataframe\">\n",
       "  <thead>\n",
       "    <tr style=\"text-align: right;\">\n",
       "      <th></th>\n",
       "      <th>Applicant_ID</th>\n",
       "      <th>Age</th>\n",
       "      <th>Years_with_Current_Employer</th>\n",
       "      <th>Years_at_Current_Address</th>\n",
       "      <th>Household_Income_(Thousands_NIS)</th>\n",
       "      <th>Debt_to_Income_Ratio_(%)</th>\n",
       "      <th>Credit_Card_Debt_(Thousands_NIS)</th>\n",
       "      <th>Other_Debt_(Thousands_NIS)</th>\n",
       "      <th>y</th>\n",
       "    </tr>\n",
       "    <tr>\n",
       "      <th>Education_Level</th>\n",
       "      <th></th>\n",
       "      <th></th>\n",
       "      <th></th>\n",
       "      <th></th>\n",
       "      <th></th>\n",
       "      <th></th>\n",
       "      <th></th>\n",
       "      <th></th>\n",
       "      <th></th>\n",
       "    </tr>\n",
       "  </thead>\n",
       "  <tbody>\n",
       "    <tr>\n",
       "      <th>0</th>\n",
       "      <td>10836.597531</td>\n",
       "      <td>35.421399</td>\n",
       "      <td>9.118519</td>\n",
       "      <td>8.484774</td>\n",
       "      <td>169.686420</td>\n",
       "      <td>9.073333</td>\n",
       "      <td>5.161317</td>\n",
       "      <td>10.523457</td>\n",
       "      <td>0.085597</td>\n",
       "    </tr>\n",
       "    <tr>\n",
       "      <th>graduate professional education</th>\n",
       "      <td>10721.918942</td>\n",
       "      <td>35.110100</td>\n",
       "      <td>8.967490</td>\n",
       "      <td>8.637191</td>\n",
       "      <td>171.866927</td>\n",
       "      <td>8.972042</td>\n",
       "      <td>5.058951</td>\n",
       "      <td>10.365410</td>\n",
       "      <td>0.070655</td>\n",
       "    </tr>\n",
       "    <tr>\n",
       "      <th>high school</th>\n",
       "      <td>10385.139945</td>\n",
       "      <td>35.076181</td>\n",
       "      <td>9.091786</td>\n",
       "      <td>8.630925</td>\n",
       "      <td>171.474117</td>\n",
       "      <td>8.853067</td>\n",
       "      <td>4.722376</td>\n",
       "      <td>10.063344</td>\n",
       "      <td>0.034734</td>\n",
       "    </tr>\n",
       "    <tr>\n",
       "      <th>university</th>\n",
       "      <td>10582.493974</td>\n",
       "      <td>35.161000</td>\n",
       "      <td>9.062241</td>\n",
       "      <td>8.598489</td>\n",
       "      <td>171.066199</td>\n",
       "      <td>8.894945</td>\n",
       "      <td>4.786832</td>\n",
       "      <td>10.380824</td>\n",
       "      <td>0.057384</td>\n",
       "    </tr>\n",
       "  </tbody>\n",
       "</table>\n",
       "</div>"
      ],
      "text/plain": [
       "                                 Applicant_ID        Age  \\\n",
       "Education_Level                                            \n",
       "0                                10836.597531  35.421399   \n",
       "graduate professional education  10721.918942  35.110100   \n",
       "high school                      10385.139945  35.076181   \n",
       "university                       10582.493974  35.161000   \n",
       "\n",
       "                                 Years_with_Current_Employer  \\\n",
       "Education_Level                                                \n",
       "0                                                   9.118519   \n",
       "graduate professional education                     8.967490   \n",
       "high school                                         9.091786   \n",
       "university                                          9.062241   \n",
       "\n",
       "                                 Years_at_Current_Address  \\\n",
       "Education_Level                                             \n",
       "0                                                8.484774   \n",
       "graduate professional education                  8.637191   \n",
       "high school                                      8.630925   \n",
       "university                                       8.598489   \n",
       "\n",
       "                                 Household_Income_(Thousands_NIS)  \\\n",
       "Education_Level                                                     \n",
       "0                                                      169.686420   \n",
       "graduate professional education                        171.866927   \n",
       "high school                                            171.474117   \n",
       "university                                             171.066199   \n",
       "\n",
       "                                 Debt_to_Income_Ratio_(%)  \\\n",
       "Education_Level                                             \n",
       "0                                                9.073333   \n",
       "graduate professional education                  8.972042   \n",
       "high school                                      8.853067   \n",
       "university                                       8.894945   \n",
       "\n",
       "                                 Credit_Card_Debt_(Thousands_NIS)  \\\n",
       "Education_Level                                                     \n",
       "0                                                        5.161317   \n",
       "graduate professional education                          5.058951   \n",
       "high school                                              4.722376   \n",
       "university                                               4.786832   \n",
       "\n",
       "                                 Other_Debt_(Thousands_NIS)         y  \n",
       "Education_Level                                                        \n",
       "0                                                 10.523457  0.085597  \n",
       "graduate professional education                   10.365410  0.070655  \n",
       "high school                                       10.063344  0.034734  \n",
       "university                                        10.380824  0.057384  "
      ]
     },
     "execution_count": 10,
     "metadata": {},
     "output_type": "execute_result"
    }
   ],
   "source": [
    "data.groupby('Education_Level').mean()"
   ]
  },
  {
   "cell_type": "markdown",
   "metadata": {},
   "source": [
    "## Create dummy variables"
   ]
  },
  {
   "cell_type": "markdown",
   "metadata": {},
   "source": [
    "That is variables with only two values, zero and one."
   ]
  },
  {
   "cell_type": "code",
   "execution_count": 11,
   "metadata": {},
   "outputs": [],
   "source": [
    "cat_vars=['Education_Level']\n",
    "for var in cat_vars:\n",
    "    cat_list='var'+'_'+var\n",
    "    cat_list = pd.get_dummies(data[var], prefix=var)\n",
    "    data1=data.join(cat_list)\n",
    "    data=data1\n",
    "cat_vars=['Education_Level']\n",
    "data_vars=data.columns.values.tolist()\n",
    "to_keep=[i for i in data_vars if i not in cat_vars]"
   ]
  },
  {
   "cell_type": "markdown",
   "metadata": {},
   "source": [
    "Our final data columns will be:"
   ]
  },
  {
   "cell_type": "code",
   "execution_count": 12,
   "metadata": {},
   "outputs": [
    {
     "data": {
      "text/plain": [
       "array(['Applicant_ID', 'Age', 'Years_with_Current_Employer',\n",
       "       'Years_at_Current_Address', 'Household_Income_(Thousands_NIS)',\n",
       "       'Debt_to_Income_Ratio_(%)', 'Credit_Card_Debt_(Thousands_NIS)',\n",
       "       'Other_Debt_(Thousands_NIS)', 'y', 'Education_Level_0',\n",
       "       'Education_Level_graduate professional education',\n",
       "       'Education_Level_high school', 'Education_Level_university'],\n",
       "      dtype=object)"
      ]
     },
     "execution_count": 12,
     "metadata": {},
     "output_type": "execute_result"
    }
   ],
   "source": [
    "data_final=data[to_keep]\n",
    "data_final.columns.values"
   ]
  },
  {
   "cell_type": "code",
   "execution_count": 13,
   "metadata": {},
   "outputs": [
    {
     "name": "stderr",
     "output_type": "stream",
     "text": [
      "C:\\ProgramData\\Anaconda3\\lib\\site-packages\\pandas\\core\\frame.py:4117: SettingWithCopyWarning: \n",
      "A value is trying to be set on a copy of a slice from a DataFrame\n",
      "\n",
      "See the caveats in the documentation: http://pandas.pydata.org/pandas-docs/stable/user_guide/indexing.html#returning-a-view-versus-a-copy\n",
      "  errors=errors,\n"
     ]
    }
   ],
   "source": [
    "data_final.drop(['Applicant_ID'], axis=1, inplace=True)"
   ]
  },
  {
   "cell_type": "markdown",
   "metadata": {},
   "source": [
    "# Over-sampling using SMOTE"
   ]
  },
  {
   "cell_type": "markdown",
   "metadata": {},
   "source": [
    "With our training data created, I’ll up-sample the no-subscription using the __SMOTE algorithm__ (Synthetic Minority Oversampling Technique). At a high level, SMOTE:\n",
    "\n",
    "1. Works by creating synthetic samples from the minor class (no-subscription) instead of creating copies.\n",
    "\n",
    "2. Randomly choosing one of the k-nearest-neighbors and using it to create a similar, but randomly tweaked, new observations.\n",
    "\n",
    "We are going to implement SMOTE in Python."
   ]
  },
  {
   "cell_type": "code",
   "execution_count": 14,
   "metadata": {},
   "outputs": [
    {
     "name": "stderr",
     "output_type": "stream",
     "text": [
      "Using TensorFlow backend.\n",
      "C:\\ProgramData\\Anaconda3\\lib\\site-packages\\tensorflow\\python\\framework\\dtypes.py:526: FutureWarning: Passing (type, 1) or '1type' as a synonym of type is deprecated; in a future version of numpy, it will be understood as (type, (1,)) / '(1,)type'.\n",
      "  _np_qint8 = np.dtype([(\"qint8\", np.int8, 1)])\n",
      "C:\\ProgramData\\Anaconda3\\lib\\site-packages\\tensorflow\\python\\framework\\dtypes.py:527: FutureWarning: Passing (type, 1) or '1type' as a synonym of type is deprecated; in a future version of numpy, it will be understood as (type, (1,)) / '(1,)type'.\n",
      "  _np_quint8 = np.dtype([(\"quint8\", np.uint8, 1)])\n",
      "C:\\ProgramData\\Anaconda3\\lib\\site-packages\\tensorflow\\python\\framework\\dtypes.py:528: FutureWarning: Passing (type, 1) or '1type' as a synonym of type is deprecated; in a future version of numpy, it will be understood as (type, (1,)) / '(1,)type'.\n",
      "  _np_qint16 = np.dtype([(\"qint16\", np.int16, 1)])\n",
      "C:\\ProgramData\\Anaconda3\\lib\\site-packages\\tensorflow\\python\\framework\\dtypes.py:529: FutureWarning: Passing (type, 1) or '1type' as a synonym of type is deprecated; in a future version of numpy, it will be understood as (type, (1,)) / '(1,)type'.\n",
      "  _np_quint16 = np.dtype([(\"quint16\", np.uint16, 1)])\n",
      "C:\\ProgramData\\Anaconda3\\lib\\site-packages\\tensorflow\\python\\framework\\dtypes.py:530: FutureWarning: Passing (type, 1) or '1type' as a synonym of type is deprecated; in a future version of numpy, it will be understood as (type, (1,)) / '(1,)type'.\n",
      "  _np_qint32 = np.dtype([(\"qint32\", np.int32, 1)])\n",
      "C:\\ProgramData\\Anaconda3\\lib\\site-packages\\tensorflow\\python\\framework\\dtypes.py:535: FutureWarning: Passing (type, 1) or '1type' as a synonym of type is deprecated; in a future version of numpy, it will be understood as (type, (1,)) / '(1,)type'.\n",
      "  np_resource = np.dtype([(\"resource\", np.ubyte, 1)])\n"
     ]
    },
    {
     "name": "stdout",
     "output_type": "stream",
     "text": [
      "\u001b[1m length of oversampled data is 28008\n",
      "\u001b[1m Number of no default in oversampled data 14004\n",
      "\u001b[1m Number of default 14004\n",
      "\u001b[1m Proportion of no default data in oversampled data is  0.5\n",
      "\u001b[1m Proportion of default data in oversampled data is  0.5\n"
     ]
    }
   ],
   "source": [
    "X = data_final.loc[:, data_final.columns != 'y']\n",
    "y = data_final.loc[:, data_final.columns == 'y']\n",
    "from imblearn.over_sampling import SMOTE\n",
    "os = SMOTE(random_state=0)\n",
    "X_train, X_test, y_train, y_test = train_test_split(X, y, test_size=0.3, random_state=0)\n",
    "columns = X_train.columns\n",
    "os_data_X,os_data_y=os.fit_sample(X_train, y_train)\n",
    "os_data_X = pd.DataFrame(data=os_data_X,columns=columns )\n",
    "os_data_y= pd.DataFrame(data=os_data_y,columns=['y'])\n",
    "# we can Check the numbers of our data\n",
    "print(\"\\033[1m length of oversampled data is\" ,len(os_data_X))\n",
    "print(\"\\033[1m Number of no default in oversampled data\",len(os_data_y[os_data_y['y']==0]))\n",
    "print(\"\\033[1m Number of default\",len(os_data_y[os_data_y['y']==1]))\n",
    "print(\"\\033[1m Proportion of no default data in oversampled data is \",len(os_data_y[os_data_y['y']==0])/len(os_data_X))\n",
    "print(\"\\033[1m Proportion of default data in oversampled data is \",len(os_data_y[os_data_y['y']==1])/len(os_data_X))"
   ]
  },
  {
   "cell_type": "markdown",
   "metadata": {},
   "source": [
    "Now we have a perfect balanced data! You may have noticed that I over-sampled only on the training data, because by oversampling only on the training data, none of the information in the test data is being used to create synthetic observations, therefore, no information will bleed from test data into the model training."
   ]
  },
  {
   "cell_type": "markdown",
   "metadata": {},
   "source": [
    "# Recursive Feature Elimination"
   ]
  },
  {
   "cell_type": "markdown",
   "metadata": {},
   "source": [
    "__Recursive Feature Elimination (RFE)__ is based on the idea to repeatedly construct a model and choose either the best or worst performing feature, setting the feature aside and then repeating the process with the rest of the features. This process is applied until all features in the dataset are exhausted. The goal of RFE is to select features by recursively considering smaller and smaller sets of features."
   ]
  },
  {
   "cell_type": "code",
   "execution_count": 15,
   "metadata": {},
   "outputs": [
    {
     "name": "stdout",
     "output_type": "stream",
     "text": [
      "[ True  True  True  True  True  True  True  True  True  True  True]\n",
      "[1 1 1 1 1 1 1 1 1 1 1]\n"
     ]
    },
    {
     "name": "stderr",
     "output_type": "stream",
     "text": [
      "C:\\ProgramData\\Anaconda3\\lib\\site-packages\\sklearn\\linear_model\\_logistic.py:940: ConvergenceWarning: lbfgs failed to converge (status=1):\n",
      "STOP: TOTAL NO. of ITERATIONS REACHED LIMIT.\n",
      "\n",
      "Increase the number of iterations (max_iter) or scale the data as shown in:\n",
      "    https://scikit-learn.org/stable/modules/preprocessing.html\n",
      "Please also refer to the documentation for alternative solver options:\n",
      "    https://scikit-learn.org/stable/modules/linear_model.html#logistic-regression\n",
      "  extra_warning_msg=_LOGISTIC_SOLVER_CONVERGENCE_MSG)\n"
     ]
    }
   ],
   "source": [
    "data_final_vars=data_final.columns.values.tolist()\n",
    "y=['y']\n",
    "X=[i for i in data_final_vars if i not in y]\n",
    "from sklearn.feature_selection import RFE\n",
    "from sklearn.linear_model import LogisticRegression\n",
    "logreg = LogisticRegression()\n",
    "rfe = RFE(logreg, 20)\n",
    "rfe = rfe.fit(os_data_X, os_data_y.values.ravel())\n",
    "print(rfe.support_)\n",
    "print(rfe.ranking_)"
   ]
  },
  {
   "cell_type": "markdown",
   "metadata": {},
   "source": [
    "The RFE has helped us select the following features: 'Age', 'Years_with_Current_Employer', 'Years_at_Current_Address','Household_Income_(Thousands_NIS)', 'Debt_to_Income_Ratio_(%)','Credit_Card_Debt_(Thousands_NIS)', 'Other_Debt_(Thousands_NIS)','Education_Level_graduate professional education','Education_Level_high school', 'Education_Level_university'."
   ]
  },
  {
   "cell_type": "code",
   "execution_count": 16,
   "metadata": {},
   "outputs": [],
   "source": [
    "cols=['Age', 'Years_with_Current_Employer', 'Years_at_Current_Address','Household_Income_(Thousands_NIS)',\n",
    "      'Debt_to_Income_Ratio_(%)','Credit_Card_Debt_(Thousands_NIS)', 'Other_Debt_(Thousands_NIS)',\n",
    "      'Education_Level_graduate professional education','Education_Level_high school', 'Education_Level_university'] \n",
    "X=os_data_X[cols]\n",
    "y=os_data_y['y']"
   ]
  },
  {
   "cell_type": "markdown",
   "metadata": {},
   "source": [
    "# Implementing the model"
   ]
  },
  {
   "cell_type": "code",
   "execution_count": 17,
   "metadata": {},
   "outputs": [
    {
     "name": "stdout",
     "output_type": "stream",
     "text": [
      "Optimization terminated successfully.\n",
      "         Current function value: 0.343699\n",
      "         Iterations 7\n",
      "                                         Results: Logit\n",
      "================================================================================================\n",
      "Model:                         Logit                      Pseudo R-squared:           0.504     \n",
      "Dependent Variable:            y                          AIC:                        19272.6637\n",
      "Date:                          2020-06-04 23:51           BIC:                        19355.0662\n",
      "No. Observations:              28008                      Log-Likelihood:             -9626.3   \n",
      "Df Model:                      9                          LL-Null:                    -19414.   \n",
      "Df Residuals:                  27998                      LLR p-value:                0.0000    \n",
      "Converged:                     1.0000                     Scale:                      1.0000    \n",
      "No. Iterations:                7.0000                                                           \n",
      "------------------------------------------------------------------------------------------------\n",
      "                                                 Coef.  Std.Err.    z     P>|z|   [0.025  0.975]\n",
      "------------------------------------------------------------------------------------------------\n",
      "Age                                              0.0193   0.0015  13.0626 0.0000  0.0164  0.0222\n",
      "Years_with_Current_Employer                     -0.1292   0.0034 -38.1807 0.0000 -0.1358 -0.1226\n",
      "Years_at_Current_Address                        -0.0644   0.0031 -20.5649 0.0000 -0.0705 -0.0582\n",
      "Household_Income_(Thousands_NIS)                 0.0002   0.0001   1.8522 0.0640 -0.0000  0.0005\n",
      "Debt_to_Income_Ratio_(%)                         0.1654   0.0030  55.1612 0.0000  0.1595  0.1713\n",
      "Credit_Card_Debt_(Thousands_NIS)                 0.0837   0.0031  27.2175 0.0000  0.0777  0.0898\n",
      "Other_Debt_(Thousands_NIS)                       0.0306   0.0016  19.4604 0.0000  0.0275  0.0337\n",
      "Education_Level_graduate professional education -3.2663   0.0766 -42.6163 0.0000 -3.4166 -3.1161\n",
      "Education_Level_high school                     -3.2716   0.0471 -69.4402 0.0000 -3.3639 -3.1793\n",
      "Education_Level_university                      -2.9619   0.0530 -55.8402 0.0000 -3.0658 -2.8579\n",
      "================================================================================================\n",
      "\n"
     ]
    }
   ],
   "source": [
    "import statsmodels.api as sm\n",
    "\n",
    "logit_model=sm.Logit(y,X)\n",
    "result=logit_model.fit()\n",
    "print(result.summary2())"
   ]
  },
  {
   "cell_type": "markdown",
   "metadata": {},
   "source": [
    "# Gradient Boosting Classifier Model Fitting"
   ]
  },
  {
   "cell_type": "code",
   "execution_count": 18,
   "metadata": {},
   "outputs": [
    {
     "data": {
      "text/plain": [
       "GradientBoostingClassifier(ccp_alpha=0.0, criterion='friedman_mse', init=None,\n",
       "                           learning_rate=0.1, loss='deviance', max_depth=3,\n",
       "                           max_features=None, max_leaf_nodes=None,\n",
       "                           min_impurity_decrease=0.0, min_impurity_split=None,\n",
       "                           min_samples_leaf=1, min_samples_split=2,\n",
       "                           min_weight_fraction_leaf=0.0, n_estimators=100,\n",
       "                           n_iter_no_change=None, presort='deprecated',\n",
       "                           random_state=None, subsample=1.0, tol=0.0001,\n",
       "                           validation_fraction=0.1, verbose=0,\n",
       "                           warm_start=False)"
      ]
     },
     "execution_count": 18,
     "metadata": {},
     "output_type": "execute_result"
    }
   ],
   "source": [
    "from sklearn.ensemble import GradientBoostingClassifier\n",
    "from sklearn import metrics\n",
    "\n",
    "X_train, X_test, y_train, y_test = train_test_split(X, y, test_size=0.3, random_state=0)\n",
    "gb = GradientBoostingClassifier()\n",
    "gb.fit(X_train, y_train)"
   ]
  },
  {
   "cell_type": "markdown",
   "metadata": {},
   "source": [
    "### Predicting the test set results and calculating the accuracy"
   ]
  },
  {
   "cell_type": "code",
   "execution_count": 19,
   "metadata": {},
   "outputs": [
    {
     "name": "stdout",
     "output_type": "stream",
     "text": [
      "\u001b[1m Accuracy of Gradient Boosting Classifier Model on test set: 0.90\n"
     ]
    }
   ],
   "source": [
    "y_pred = gb.predict(X_test)\n",
    "print(\"\\033[1m Accuracy of Gradient Boosting Classifier Model on test set:\", '{:.2f}'.format(gb.score(X_test, y_test)))"
   ]
  },
  {
   "cell_type": "markdown",
   "metadata": {},
   "source": [
    "# Confusion Matrix"
   ]
  },
  {
   "cell_type": "code",
   "execution_count": 20,
   "metadata": {},
   "outputs": [
    {
     "name": "stdout",
     "output_type": "stream",
     "text": [
      "[[3739  411]\n",
      " [ 403 3850]]\n"
     ]
    }
   ],
   "source": [
    "from sklearn.metrics import confusion_matrix\n",
    "\n",
    "confusion_matrix = confusion_matrix(y_test, y_pred)\n",
    "print(confusion_matrix)"
   ]
  },
  {
   "cell_type": "code",
   "execution_count": 21,
   "metadata": {},
   "outputs": [
    {
     "name": "stdout",
     "output_type": "stream",
     "text": [
      "\u001b[1m The result is telling us that we have:  7589 correct predictions\u001b[1m\n",
      "\u001b[1m The result is telling us that we have:  814 incorrect predictions\u001b[1m\n",
      "\u001b[1m We have a total predictions of:  8403\n"
     ]
    }
   ],
   "source": [
    "print(\"\\033[1m The result is telling us that we have: \",(confusion_matrix[0,0]+confusion_matrix[1,1]),\"correct predictions\\033[1m\")\n",
    "print(\"\\033[1m The result is telling us that we have: \",(confusion_matrix[0,1]+confusion_matrix[1,0]),\"incorrect predictions\\033[1m\")\n",
    "print(\"\\033[1m We have a total predictions of: \",(confusion_matrix.sum()))"
   ]
  },
  {
   "cell_type": "markdown",
   "metadata": {},
   "source": [
    "# Compute precision, recall, F-measure and support"
   ]
  },
  {
   "cell_type": "markdown",
   "metadata": {},
   "source": [
    "To quote from Scikit Learn:\n",
    "\n",
    "The precision is the ratio tp / (tp + fp) where tp is the number of true positives and fp the number of false positives. The precision is intuitively the ability of the classifier to not label a sample as positive if it is negative.\n",
    "\n",
    "The recall is the ratio tp / (tp + fn) where tp is the number of true positives and fn the number of false negatives. The recall is intuitively the ability of the classifier to find all the positive samples.\n",
    "\n",
    "The F-beta score can be interpreted as a weighted harmonic mean of the precision and recall, where an F-beta score reaches its best value at 1 and worst score at 0.\n",
    "\n",
    "The F-beta score weights the recall more than the precision by a factor of beta. beta = 1.0 means recall and precision are equally important.\n",
    "\n",
    "The support is the number of occurrences of each class in y_test."
   ]
  },
  {
   "cell_type": "code",
   "execution_count": 22,
   "metadata": {},
   "outputs": [
    {
     "name": "stdout",
     "output_type": "stream",
     "text": [
      "              precision    recall  f1-score   support\n",
      "\n",
      "           0       0.90      0.90      0.90      4150\n",
      "           1       0.90      0.91      0.90      4253\n",
      "\n",
      "    accuracy                           0.90      8403\n",
      "   macro avg       0.90      0.90      0.90      8403\n",
      "weighted avg       0.90      0.90      0.90      8403\n",
      "\n"
     ]
    }
   ],
   "source": [
    "from sklearn.metrics import classification_report\n",
    "print(classification_report(y_test, y_pred))"
   ]
  },
  {
   "cell_type": "code",
   "execution_count": 23,
   "metadata": {},
   "outputs": [
    {
     "name": "stdout",
     "output_type": "stream",
     "text": [
      "Accuracy of Gradient Boosting Classifier Model: 90.31%\n",
      "Well, you got a classification rate of 90.31%\n",
      "\n",
      "Precision of Gradient Boosting Classifier Model: 90.35%\n",
      "Precision: Precision is about being precise, i.e., how precise your model is. In other words, you can\n",
      "say, when a model makes a prediction, how often it is correct. In our prediction case, when our Gradient\n",
      "Boosting Classifier Model predicted a loan is going to default, that loan actually defaulted 90.35% of\n",
      " the time.\n",
      "\n",
      "Recall of Gradient Boosting Classifier Model: 90.52%\n",
      "Recall: If there is a loan who defaulted the company present in the test set, our Gradient Boosting Classifier\n",
      "Model can identify it 90.52% of the time.\n"
     ]
    }
   ],
   "source": [
    "#Import scikit-learn metrics module for accuracy calculation\n",
    "from sklearn import metrics\n",
    "#calculate Accuracy, how often is the classifier correct?\n",
    "print(\"Accuracy of Gradient Boosting Classifier Model:\", \"{:.2%}\".format(metrics.accuracy_score(y_test, y_pred)))\n",
    "print(\"Well, you got a classification rate of\", \"{:.2%}\".format(metrics.accuracy_score(y_test, y_pred)))\n",
    "#calculate Precision\n",
    "print(\"\\nPrecision of Gradient Boosting Classifier Model:\", \"{:.2%}\".format(metrics.precision_score(y_test, y_pred)))\n",
    "print(\"Precision: Precision is about being precise, i.e., how precise your model is. In other words, you can\\nsay, when a model makes a prediction, how often it is correct. In our prediction case, when our Gradient\\nBoosting Classifier Model predicted a loan is going to default, that loan actually defaulted\",\"{:.2%}\".format(metrics.precision_score(y_test, y_pred)),\"of\\n the time.\")\n",
    "#calculate Recall\n",
    "print(\"\\nRecall of Gradient Boosting Classifier Model:\", \"{:.2%}\".format(metrics.recall_score(y_test, y_pred)))\n",
    "print(\"Recall: If there is a loan who defaulted the company present in the test set, our Gradient Boosting Classifier\\nModel can identify it\", \"{:.2%}\".format(metrics.recall_score(y_test, y_pred)) ,\"of the time.\")"
   ]
  },
  {
   "cell_type": "markdown",
   "metadata": {},
   "source": [
    "# ROC Curve"
   ]
  },
  {
   "cell_type": "markdown",
   "metadata": {},
   "source": [
    "The receiver operating characteristic (ROC) curve is another common tool used with binary classifiers. The dotted line represents the ROC curve of a purely random classifier; a good classifier stays as far away from that line as possible (toward the top-left corner)."
   ]
  },
  {
   "cell_type": "code",
   "execution_count": 24,
   "metadata": {},
   "outputs": [
    {
     "data": {
      "image/png": "[encoded data removed]",
      "text/plain": [
       "<Figure size 720x432 with 1 Axes>"
      ]
     },
     "metadata": {
      "needs_background": "light"
     },
     "output_type": "display_data"
    }
   ],
   "source": [
    "from sklearn.metrics import roc_auc_score\n",
    "from sklearn.metrics import roc_curve\n",
    "gb_roc_auc = roc_auc_score(y_test, gb.predict(X_test))\n",
    "fpr, tpr, thresholds = roc_curve(y_test, gb.predict_proba(X_test)[:,1])\n",
    "plt.figure()\n",
    "plt.plot(fpr, tpr, label='Logistic Regression (area = %0.2f)' % gb_roc_auc)\n",
    "plt.plot([0, 1], [0, 1],'r--')\n",
    "plt.xlim([0.0, 1.0])\n",
    "plt.ylim([0.0, 1.05])\n",
    "plt.xlabel('False Positive Rate')\n",
    "plt.ylabel('True Positive Rate')\n",
    "plt.title('Receiver operating characteristic')\n",
    "plt.legend(loc=\"lower right\")\n",
    "plt.savefig('Log_ROC')\n",
    "plt.show()"
   ]
  },
  {
   "cell_type": "markdown",
   "metadata": {},
   "source": [
    "# Real-time Prediction"
   ]
  },
  {
   "cell_type": "markdown",
   "metadata": {},
   "source": [
    "Finally, the best way to use this model is assigning Default Probability for each applicant, create segments, and build strategies on top of that. To get the default probability from our model, utilize the code block below:"
   ]
  },
  {
   "cell_type": "code",
   "execution_count": 25,
   "metadata": {},
   "outputs": [
    {
     "data": {
      "text/html": [
       "<div>\n",
       "<style scoped>\n",
       "    .dataframe tbody tr th:only-of-type {\n",
       "        vertical-align: middle;\n",
       "    }\n",
       "\n",
       "    .dataframe tbody tr th {\n",
       "        vertical-align: top;\n",
       "    }\n",
       "\n",
       "    .dataframe thead th {\n",
       "        text-align: right;\n",
       "    }\n",
       "</style>\n",
       "<table border=\"1\" class=\"dataframe\">\n",
       "  <thead>\n",
       "    <tr style=\"text-align: right;\">\n",
       "      <th></th>\n",
       "      <th>Applicant_ID</th>\n",
       "      <th>PD</th>\n",
       "    </tr>\n",
       "  </thead>\n",
       "  <tbody>\n",
       "    <tr>\n",
       "      <th>0</th>\n",
       "      <td>1</td>\n",
       "      <td>0.031506</td>\n",
       "    </tr>\n",
       "    <tr>\n",
       "      <th>1</th>\n",
       "      <td>2</td>\n",
       "      <td>0.112481</td>\n",
       "    </tr>\n",
       "    <tr>\n",
       "      <th>2</th>\n",
       "      <td>3</td>\n",
       "      <td>0.186568</td>\n",
       "    </tr>\n",
       "    <tr>\n",
       "      <th>3</th>\n",
       "      <td>4</td>\n",
       "      <td>0.018039</td>\n",
       "    </tr>\n",
       "    <tr>\n",
       "      <th>4</th>\n",
       "      <td>5</td>\n",
       "      <td>0.067139</td>\n",
       "    </tr>\n",
       "    <tr>\n",
       "      <th>5</th>\n",
       "      <td>6</td>\n",
       "      <td>0.045385</td>\n",
       "    </tr>\n",
       "    <tr>\n",
       "      <th>6</th>\n",
       "      <td>7</td>\n",
       "      <td>0.011375</td>\n",
       "    </tr>\n",
       "    <tr>\n",
       "      <th>7</th>\n",
       "      <td>8</td>\n",
       "      <td>0.015984</td>\n",
       "    </tr>\n",
       "    <tr>\n",
       "      <th>8</th>\n",
       "      <td>9</td>\n",
       "      <td>0.681827</td>\n",
       "    </tr>\n",
       "    <tr>\n",
       "      <th>9</th>\n",
       "      <td>10</td>\n",
       "      <td>0.556019</td>\n",
       "    </tr>\n",
       "  </tbody>\n",
       "</table>\n",
       "</div>"
      ],
      "text/plain": [
       "   Applicant_ID        PD\n",
       "0             1  0.031506\n",
       "1             2  0.112481\n",
       "2             3  0.186568\n",
       "3             4  0.018039\n",
       "4             5  0.067139\n",
       "5             6  0.045385\n",
       "6             7  0.011375\n",
       "7             8  0.015984\n",
       "8             9  0.681827\n",
       "9            10  0.556019"
      ]
     },
     "execution_count": 25,
     "metadata": {},
     "output_type": "execute_result"
    }
   ],
   "source": [
    "data['PD'] = gb.predict_proba(data[X_train.columns])[:,1]\n",
    "data[['Applicant_ID','PD']].head(10)"
   ]
  },
  {
   "cell_type": "code",
   "execution_count": 26,
   "metadata": {},
   "outputs": [],
   "source": [
    "data.to_csv('PD.csv', encoding='utf-8')"
   ]
  }
 ],
 "metadata": {
  "kernelspec": {
   "display_name": "Python 3",
   "language": "python",
   "name": "python3"
  },
  "language_info": {
   "codemirror_mode": {
    "name": "ipython",
    "version": 3
   },
   "file_extension": ".py",
   "mimetype": "text/x-python",
   "name": "python",
   "nbconvert_exporter": "python",
   "pygments_lexer": "ipython3",
   "version": "3.7.6"
  }
 },
 "nbformat": 4,
 "nbformat_minor": 4
}
